{
 "cells": [
  {
   "cell_type": "code",
   "execution_count": 2,
   "id": "b142769b-9f51-4a79-b281-3d2f36affaea",
   "metadata": {},
   "outputs": [],
   "source": [
    "import torch\n",
    "import torch.nn.functional as F\n",
    "import matplotlib.pyplot as plt\n",
    "%matplotlib inline"
   ]
  },
  {
   "cell_type": "code",
   "execution_count": 4,
   "id": "9fcaccb9-ee15-458e-a8ac-330bffc38aa0",
   "metadata": {},
   "outputs": [
    {
     "data": {
      "text/plain": [
       "['emma', 'olivia', 'ava', 'isabella', 'sophia']"
      ]
     },
     "execution_count": 4,
     "metadata": {},
     "output_type": "execute_result"
    }
   ],
   "source": [
    "words = open(\"names.txt\", \"r\").read().splitlines()\n",
    "words[:5]"
   ]
  },
  {
   "cell_type": "code",
   "execution_count": 5,
   "id": "95f0dd4b-6c05-4751-be63-87f11d26a7ee",
   "metadata": {},
   "outputs": [],
   "source": [
    "chars = sorted(set(list(\"\".join(w for w in words))))\n",
    "\n",
    "stoi = {s:i+1 for i, s in enumerate(chars)}\n",
    "stoi[\".\"] = 0\n",
    "\n",
    "itos = {i:s for s, i in stoi.items()}"
   ]
  },
  {
   "cell_type": "code",
   "execution_count": 6,
   "id": "741541f7-64f9-414e-823f-ab1eb1993de6",
   "metadata": {},
   "outputs": [
    {
     "name": "stdout",
     "output_type": "stream",
     "text": [
      "... -> e\n",
      "..e -> m\n",
      ".em -> m\n",
      "emm -> a\n",
      "mma -> .\n",
      "========\n",
      "... -> o\n",
      "..o -> l\n",
      ".ol -> i\n",
      "oli -> v\n",
      "liv -> i\n",
      "ivi -> a\n",
      "via -> .\n",
      "========\n",
      "... -> a\n",
      "..a -> v\n",
      ".av -> a\n",
      "ava -> .\n",
      "========\n",
      "... -> i\n",
      "..i -> s\n",
      ".is -> a\n",
      "isa -> b\n",
      "sab -> e\n",
      "abe -> l\n",
      "bel -> l\n",
      "ell -> a\n",
      "lla -> .\n",
      "========\n",
      "... -> s\n",
      "..s -> o\n",
      ".so -> p\n",
      "sop -> h\n",
      "oph -> i\n",
      "phi -> a\n",
      "hia -> .\n",
      "========\n"
     ]
    },
    {
     "data": {
      "text/plain": [
       "(torch.Size([228146, 3]), torch.Size([228146]))"
      ]
     },
     "execution_count": 6,
     "metadata": {},
     "output_type": "execute_result"
    }
   ],
   "source": [
    "X, y = [], []\n",
    "\n",
    "show_till = 5\n",
    "i = 0\n",
    "window_size = 3\n",
    "for word in words:\n",
    "    context = [0] * window_size\n",
    "    for ch in word + \".\":\n",
    "        ix = stoi[ch]\n",
    "        if i < show_till:\n",
    "            print(f\"{\"\".join(itos[w] for w in context)} -> {itos[ix]}\")\n",
    "        X.append(context)\n",
    "        y.append(ix)\n",
    "        context = context[1:] + [ix]\n",
    "    if i < show_till: print(\"=\"*8)\n",
    "    i += 1\n",
    "\n",
    "X = torch.tensor(X)\n",
    "y = torch.tensor(y)\n",
    "\n",
    "X.shape, y.shape"
   ]
  },
  {
   "cell_type": "code",
   "execution_count": 60,
   "id": "e8b3131c-7994-4047-a961-48ecc3e20fe6",
   "metadata": {},
   "outputs": [],
   "source": [
    "C = torch.randn((27, 2))  # Embedding matrix"
   ]
  },
  {
   "cell_type": "code",
   "execution_count": 61,
   "id": "c28c4a52-d6cc-4168-b146-0a1a18ddc420",
   "metadata": {},
   "outputs": [
    {
     "data": {
      "text/plain": [
       "tensor([-0.9715, -1.6202])"
      ]
     },
     "execution_count": 61,
     "metadata": {},
     "output_type": "execute_result"
    }
   ],
   "source": [
    "F.one_hot(torch.tensor(5), num_classes=27).float() @ C"
   ]
  },
  {
   "cell_type": "code",
   "execution_count": 62,
   "id": "2f6fa17f-1930-4f85-8446-3813f7ecb2fb",
   "metadata": {},
   "outputs": [
    {
     "data": {
      "text/plain": [
       "torch.Size([228146, 3, 2])"
      ]
     },
     "execution_count": 62,
     "metadata": {},
     "output_type": "execute_result"
    }
   ],
   "source": [
    "X_emb = C[X]\n",
    "X_emb.shape"
   ]
  },
  {
   "cell_type": "code",
   "execution_count": 63,
   "id": "f2f4a27d-ab6c-4db2-80e5-6b27535ebd25",
   "metadata": {},
   "outputs": [],
   "source": [
    "g = torch.Generator().manual_seed(42)\n",
    "W1 = torch.randn((6, 100), generator=g)\n",
    "b1 = torch.randn(100, generator=g)\n",
    "W2 = torch.randn((100, 27), generator=g)\n",
    "b2 = torch.randn(27, generator=g)\n",
    "C = torch.randn((27, 2), generator=g)"
   ]
  },
  {
   "cell_type": "code",
   "execution_count": 64,
   "id": "cfe58413-9eb6-480f-9c29-f5a638625840",
   "metadata": {},
   "outputs": [
    {
     "name": "stdout",
     "output_type": "stream",
     "text": [
      "13.941655158996582\n",
      "7.7270073890686035\n",
      "6.089615821838379\n",
      "5.176519870758057\n",
      "4.549757480621338\n",
      "4.072685718536377\n",
      "3.7436749935150146\n",
      "3.600302219390869\n",
      "3.4234490394592285\n",
      "3.2891695499420166\n"
     ]
    }
   ],
   "source": [
    "parameters = [W1, b1, W2, b2, C]  # Embedding is also learned parameter\n",
    "# We can think of it as of a weight matrix for one-hot encoded indeces\n",
    "\n",
    "lr = 0.1\n",
    "\n",
    "for p in parameters:\n",
    "    p.requires_grad = True\n",
    "\n",
    "for epoch in range(100):\n",
    "    # Forward pass:\n",
    "    X_emb = C[X]\n",
    "    h = F.tanh(X_emb.view(-1, 6) @ W1 + b1)\n",
    "    logits = h @ W2 + b2\n",
    "    out = F.softmax(logits, dim=1)\n",
    "    # loss = -out[torch.arange(32), y].log().mean().item()\n",
    "    loss = F.cross_entropy(logits, y)\n",
    "    if epoch % 10 == 0: print(loss.item())\n",
    "    for p in parameters:\n",
    "        p.grad = None\n",
    "    loss.backward()\n",
    "    for p in parameters:\n",
    "        p.data += -lr * p.grad"
   ]
  },
  {
   "cell_type": "markdown",
   "id": "2dc7eec2-acb4-472e-b955-874b486bb730",
   "metadata": {},
   "source": [
    "Above is the training on entire dataset (traditional GD), but it's slow & we'd rather use minibatch splits"
   ]
  },
  {
   "cell_type": "code",
   "execution_count": 67,
   "id": "8caf072d-4351-4a89-b587-0fb1ef0115b7",
   "metadata": {},
   "outputs": [],
   "source": [
    "g = torch.Generator().manual_seed(42)\n",
    "W1 = torch.randn((6, 100), generator=g)\n",
    "b1 = torch.randn(100, generator=g)\n",
    "W2 = torch.randn((100, 27), generator=g)\n",
    "b2 = torch.randn(27, generator=g)\n",
    "C = torch.randn((27, 2), generator=g)"
   ]
  },
  {
   "cell_type": "code",
   "execution_count": 68,
   "id": "24b612a3-723a-43ed-af00-066211fde03b",
   "metadata": {},
   "outputs": [
    {
     "name": "stdout",
     "output_type": "stream",
     "text": [
      "14.27030086517334\n",
      "3.2506325244903564\n",
      "2.698181629180908\n",
      "2.699838161468506\n",
      "2.6895885467529297\n",
      "3.034855365753174\n",
      "3.049379348754883\n",
      "2.605607271194458\n",
      "2.3097779750823975\n",
      "2.469055414199829\n"
     ]
    }
   ],
   "source": [
    "parameters = [W1, b1, W2, b2, C]  # Embedding is also learned parameter\n",
    "# We can think of it as of a weight matrix for one-hot encoded indeces\n",
    "\n",
    "lr = 0.1\n",
    "\n",
    "for p in parameters:\n",
    "    p.requires_grad = True\n",
    "\n",
    "for epoch in range(1000):\n",
    "    # Forward pass:\n",
    "    batch_indices = torch.randint(0, X.shape[0], (32,))  # Batches of 32\n",
    "    X_emb = C[X[batch_indices]]\n",
    "    h = F.tanh(X_emb.view(-1, 6) @ W1 + b1)\n",
    "    logits = h @ W2 + b2\n",
    "    out = F.softmax(logits, dim=1)\n",
    "    # loss = -out[torch.arange(32), y].log().mean().item()\n",
    "    loss = F.cross_entropy(logits, y[batch_indices])\n",
    "    if epoch % 100 == 0: print(loss.item())\n",
    "    for p in parameters:\n",
    "        p.grad = None\n",
    "    loss.backward()\n",
    "    for p in parameters:\n",
    "        p.data += -lr * p.grad"
   ]
  },
  {
   "cell_type": "code",
   "execution_count": 73,
   "id": "9fc12003-c2ea-4bf4-9993-c803d6439c34",
   "metadata": {},
   "outputs": [
    {
     "name": "stdout",
     "output_type": "stream",
     "text": [
      "2.731269121170044\n"
     ]
    }
   ],
   "source": [
    "# Don't get fooled! Loss printed is only for minibatches\n",
    "# Let's see overall loss\n",
    "\n",
    "X_emb = C[X]\n",
    "X_emb = X_emb.view(-1, 6)\n",
    "h = F.tanh(X_emb @ W1 + b1)\n",
    "logits = h @ W2 + b2\n",
    "loss = F.cross_entropy(logits, y)\n",
    "print(loss.item())  # Okay, aint bad"
   ]
  },
  {
   "cell_type": "markdown",
   "id": "74545ed4-3d69-41b7-b746-dd2ad8d47460",
   "metadata": {},
   "source": [
    "### LR pick"
   ]
  },
  {
   "cell_type": "code",
   "execution_count": 76,
   "id": "e8f9894e-c30a-47d0-9902-f078317c3cf8",
   "metadata": {},
   "outputs": [],
   "source": [
    "lre = torch.linspace(-3, 0, 1_000)\n",
    "lrs = 10 ** lre  # Exponentially spaced learning rates"
   ]
  },
  {
   "cell_type": "code",
   "execution_count": 77,
   "id": "d17d6358-7efa-4066-a5fd-e43d391fdfd2",
   "metadata": {},
   "outputs": [],
   "source": [
    "g = torch.Generator().manual_seed(42)\n",
    "W1 = torch.randn((6, 100), generator=g)\n",
    "b1 = torch.randn(100, generator=g)\n",
    "W2 = torch.randn((100, 27), generator=g)\n",
    "b2 = torch.randn(27, generator=g)\n",
    "C = torch.randn((27, 2), generator=g)"
   ]
  },
  {
   "cell_type": "code",
   "execution_count": 78,
   "id": "d4b70a94-69dc-4f96-9fa3-936e2290eb4f",
   "metadata": {},
   "outputs": [],
   "source": [
    "for i in range(1_000):\n",
    "    parameters = [W1, b1, W2, b2, C]  # Embedding is also learned parameter\n",
    "# We can think of it as of a weight matrix for one-hot encoded indeces\n",
    "\n",
    "for p in parameters:\n",
    "    p.requires_grad = True\n",
    "\n",
    "lrei = []\n",
    "lossi = []\n",
    "\n",
    "for i in range(1000):\n",
    "    # Forward pass:\n",
    "    batch_indices = torch.randint(0, X.shape[0], (32,))  # Batches of 32\n",
    "    X_emb = C[X[batch_indices]]\n",
    "    h = F.tanh(X_emb.view(-1, 6) @ W1 + b1)\n",
    "    logits = h @ W2 + b2\n",
    "    out = F.softmax(logits, dim=1)\n",
    "    # loss = -out[torch.arange(32), y].log().mean().item()\n",
    "    loss = F.cross_entropy(logits, y[batch_indices])\n",
    "    if epoch % 100 == 0: print(loss.item())\n",
    "    for p in parameters:\n",
    "        p.grad = None\n",
    "    loss.backward()\n",
    "    lr = lrs[i]\n",
    "    for p in parameters:\n",
    "        p.data += -lr * p.grad\n",
    "\n",
    "    lrei.append(lre[i])\n",
    "    lossi.append(loss.item())"
   ]
  },
  {
   "cell_type": "code",
   "execution_count": 80,
   "id": "add33032-2045-4feb-8b35-c4a8bd56228d",
   "metadata": {},
   "outputs": [
    {
     "data": {
      "image/png": "[encoded data removed]",
      "text/plain": [
       "<Figure size 640x480 with 1 Axes>"
      ]
     },
     "metadata": {},
     "output_type": "display_data"
    }
   ],
   "source": [
    "plt.xlabel(\"LR exponent used\")\n",
    "plt.ylabel(\"Loss\")\n",
    "plt.plot(lrei, lossi);"
   ]
  },
  {
   "cell_type": "markdown",
   "id": "e5075fd1-b55f-48d0-9930-84d2090fc55e",
   "metadata": {},
   "source": [
    "We can see that updates lose their meaning with big exponents and small exponents make small progress.\n",
    "Reasonable choice is somewhere in this valley around -1.0.\n",
    "That's to say lr=0.1 was a reasonable choice. But with such an initialization it's pretty unfair for small learning rates, since loss is high there due to random intialization"
   ]
  },
  {
   "cell_type": "code",
   "execution_count": 86,
   "id": "f900ec3e-91f1-4e04-aca2-120b683c1922",
   "metadata": {},
   "outputs": [],
   "source": [
    "g = torch.Generator().manual_seed(42)\n",
    "W1 = torch.randn((6, 100), generator=g)\n",
    "b1 = torch.randn(100, generator=g)\n",
    "W2 = torch.randn((100, 27), generator=g)\n",
    "b2 = torch.randn(27, generator=g)\n",
    "C = torch.randn((27, 2), generator=g)"
   ]
  },
  {
   "cell_type": "code",
   "execution_count": 90,
   "id": "57c87822-614d-47cb-914c-7bf3c59d42db",
   "metadata": {},
   "outputs": [
    {
     "name": "stdout",
     "output_type": "stream",
     "text": [
      "2.338639974594116\n",
      "2.54370379447937\n",
      "2.0604248046875\n",
      "2.378545045852661\n",
      "2.4953322410583496\n",
      "2.1550145149230957\n",
      "2.4206411838531494\n",
      "2.219498634338379\n",
      "2.4089295864105225\n",
      "2.087190866470337\n"
     ]
    }
   ],
   "source": [
    "parameters = [W1, b1, W2, b2, C]\n",
    "\n",
    "lr = 0.01  # Did LR decay here. Ran 10_000 with 0.1 and now another 10_000 with 0.01\n",
    "\n",
    "for p in parameters:\n",
    "    p.requires_grad = True\n",
    "\n",
    "for epoch in range(10_000):\n",
    "    # Forward pass:\n",
    "    batch_indices = torch.randint(0, X.shape[0], (32,))  # Batches of 32\n",
    "    X_emb = C[X[batch_indices]]\n",
    "    h = F.tanh(X_emb.view(-1, 6) @ W1 + b1)\n",
    "    logits = h @ W2 + b2\n",
    "    out = F.softmax(logits, dim=1)\n",
    "    # loss = -out[torch.arange(32), y].log().mean().item()\n",
    "    loss = F.cross_entropy(logits, y[batch_indices])\n",
    "    if epoch % 1_000 == 0: print(loss.item())\n",
    "    for p in parameters:\n",
    "        p.grad = None\n",
    "    loss.backward()\n",
    "    for p in parameters:\n",
    "        p.data += -lr * p.grad"
   ]
  },
  {
   "cell_type": "code",
   "execution_count": 92,
   "id": "9dbb8b6e-a4f0-4a26-a918-406cef7f8c96",
   "metadata": {},
   "outputs": [
    {
     "name": "stdout",
     "output_type": "stream",
     "text": [
      "2.399085760116577\n"
     ]
    }
   ],
   "source": [
    "X_emb = C[X]\n",
    "X_emb = X_emb.view(-1, 6)\n",
    "h = F.tanh(X_emb @ W1 + b1)\n",
    "logits = h @ W2 + b2\n",
    "loss = F.cross_entropy(logits, y)\n",
    "print(loss.item())  # Surpassed bigram"
   ]
  },
  {
   "cell_type": "markdown",
   "id": "6693c079-83dd-4a45-b347-3f89e1f77ff2",
   "metadata": {},
   "source": [
    "### Train/Dev/Test!"
   ]
  },
  {
   "cell_type": "code",
   "execution_count": 7,
   "id": "12b8abe7-0693-49de-9e50-dd1a7df1f20f",
   "metadata": {},
   "outputs": [],
   "source": [
    "train_ratio = 0.8\n",
    "dev_ratio = 0.1\n",
    "\n",
    "m = X.shape[0]\n",
    "indices = torch.arange(0, m)\n",
    "\n",
    "import random\n",
    "random.seed(42)\n",
    "random.shuffle(indices)\n",
    "train_indices = indices[:int(m * train_ratio)]\n",
    "dev_indices = indices[int(m * train_ratio):int(m*(train_ratio+dev_ratio))]\n",
    "test_indices = indices[int(m*(train_ratio+dev_ratio)):]\n",
    "\n",
    "X_train = X[train_indices]\n",
    "y_train = y[train_indices]\n",
    "\n",
    "X_dev = X[dev_indices]\n",
    "y_dev = y[dev_indices]\n",
    "\n",
    "X_test = X[test_indices]\n",
    "y_test = y[test_indices]"
   ]
  },
  {
   "cell_type": "code",
   "execution_count": 8,
   "id": "381f2d08-a8a2-4af2-bbe7-0fca6cd4abac",
   "metadata": {},
   "outputs": [
    {
     "data": {
      "text/plain": [
       "((torch.Size([182516, 3]), torch.Size([182516])),\n",
       " (torch.Size([22815, 3]), torch.Size([22815])),\n",
       " (torch.Size([22815, 3]), torch.Size([22815])))"
      ]
     },
     "execution_count": 8,
     "metadata": {},
     "output_type": "execute_result"
    }
   ],
   "source": [
    "(X_train.shape, y_train.shape), (X_dev.shape, y_dev.shape), (X_test.shape, y_test.shape)"
   ]
  },
  {
   "cell_type": "code",
   "execution_count": 150,
   "id": "57478840-579d-479b-931b-44647639110b",
   "metadata": {},
   "outputs": [],
   "source": [
    "g = torch.Generator().manual_seed(2147483647)\n",
    "W1 = torch.randn((6, 100), generator=g)\n",
    "b1 = torch.randn(100, generator=g)\n",
    "W2 = torch.randn((100, 27), generator=g)\n",
    "b2 = torch.randn(27, generator=g)\n",
    "C = torch.randn((27, 2), generator=g)"
   ]
  },
  {
   "cell_type": "code",
   "execution_count": 151,
   "id": "5f50e918-8475-4e81-a8f8-dcc21b2b9380",
   "metadata": {},
   "outputs": [
    {
     "name": "stdout",
     "output_type": "stream",
     "text": [
      "Train Loss: 15.693534851074219\n",
      "Train Loss: 2.4692018032073975\n",
      "Train Loss: 2.8159830570220947\n",
      "Train Loss: 3.0330896377563477\n",
      "Train Loss: 2.4251551628112793\n",
      "Train Loss: 2.7936272621154785\n",
      "Train Loss: 2.713792324066162\n",
      "Train Loss: 2.3674235343933105\n",
      "Train Loss: 2.717252254486084\n",
      "Train Loss: 2.38356876373291\n"
     ]
    }
   ],
   "source": [
    "parameters = [W1, b1, W2, b2, C]\n",
    "for p in parameters:\n",
    "    p.requires_grad = True\n",
    "\n",
    "lr = 0.01\n",
    "\n",
    "\n",
    "for epoch in range(10_000):\n",
    "    # Forward pass:\n",
    "    trainbatch_indices = torch.randint(0, X_train.shape[0], (32,))  # Batches of 32\n",
    "    X_train_emb = C[X_train[trainbatch_indices]]\n",
    "    h = F.tanh(X_train_emb.view(-1, 6) @ W1 + b1)\n",
    "    logits = h @ W2 + b2\n",
    "    out = F.softmax(logits, dim=1)\n",
    "    loss = F.cross_entropy(logits, y_train[trainbatch_indices])\n",
    "    if epoch % 1_000 == 0:\n",
    "        print(f\"Train Loss: {loss.item()}\")\n",
    "    for p in parameters:\n",
    "        p.grad = None\n",
    "    loss.backward()\n",
    "    for p in parameters:\n",
    "        p.data += -lr * p.grad"
   ]
  },
  {
   "cell_type": "code",
   "execution_count": 152,
   "id": "c1f0b8f5-2687-4b54-b65a-8648132e065e",
   "metadata": {},
   "outputs": [
    {
     "name": "stdout",
     "output_type": "stream",
     "text": [
      "Test: 2.5832533836364746\n",
      "Train: 2.4703738689422607\n"
     ]
    }
   ],
   "source": [
    "Xtest_emb = C[X_test]\n",
    "Xtest_emb = Xtest_emb.view(-1, 6)\n",
    "h = F.tanh(Xtest_emb @ W1 + b1)\n",
    "logits = h @ W2 + b2\n",
    "loss = F.cross_entropy(logits, y_test)\n",
    "print(f\"Test: {loss.item()}\")\n",
    "\n",
    "Xtrain_emb = C[X_train]\n",
    "Xtrain_emb = Xtrain_emb.view(-1, 6)\n",
    "h = F.tanh(Xtrain_emb @ W1 + b1)\n",
    "logits = h @ W2 + b2\n",
    "loss = F.cross_entropy(logits, y_train)\n",
    "print(f\"Train: {loss.item()}\")"
   ]
  },
  {
   "cell_type": "code",
   "execution_count": null,
   "id": "dff8da88-954c-42fb-bf16-73de312dba4a",
   "metadata": {},
   "outputs": [],
   "source": [
    "# More of underfitting than of overfitting\n",
    "# INCREASE NET CAPACITY!!!"
   ]
  },
  {
   "cell_type": "code",
   "execution_count": 174,
   "id": "456f2b23-ab7e-4a5f-a664-cc1abed89065",
   "metadata": {},
   "outputs": [
    {
     "name": "stdout",
     "output_type": "stream",
     "text": [
      "Train Loss: 27.411684036254883\n",
      "Train Loss: 2.0866973400115967\n",
      "Train Loss: 2.617626190185547\n",
      "Train Loss: 2.4805662631988525\n",
      "Train Loss: 2.368175506591797\n",
      "Train Loss: 2.741666793823242\n",
      "Train Loss: 2.0307633876800537\n",
      "Train Loss: 2.801377058029175\n",
      "Train Loss: 2.4272634983062744\n",
      "Train Loss: 1.998099684715271\n"
     ]
    }
   ],
   "source": [
    "g = torch.Generator().manual_seed(2147483647)\n",
    "W1 = torch.randn((6, 300), generator=g)\n",
    "b1 = torch.randn(300, generator=g)\n",
    "W2 = torch.randn((300, 27), generator=g)\n",
    "b2 = torch.randn(27, generator=g)\n",
    "C = torch.randn((27, 2), generator=g)\n",
    "\n",
    "parameters = [W1, b1, W2, b2, C]\n",
    "for p in parameters:\n",
    "    p.requires_grad = True\n",
    "\n",
    "lr = 0.05\n",
    "\n",
    "\n",
    "for epoch in range(100_000):\n",
    "    # Forward pass:\n",
    "    trainbatch_indices = torch.randint(0, X_train.shape[0], (32,))  # Batches of 32\n",
    "    X_train_emb = C[X_train[trainbatch_indices]]\n",
    "    h = F.tanh(X_train_emb.view(-1, 6) @ W1 + b1)\n",
    "    logits = h @ W2 + b2\n",
    "    loss = F.cross_entropy(logits, y_train[trainbatch_indices])\n",
    "    if epoch % 10_000 == 0:\n",
    "        print(f\"Train Loss: {loss.item()}\")\n",
    "    for p in parameters:\n",
    "        p.grad = None\n",
    "    loss.backward()\n",
    "    for p in parameters:\n",
    "        p.data += -lr * p.grad"
   ]
  },
  {
   "cell_type": "code",
   "execution_count": 175,
   "id": "669bace9-9d31-48fd-a043-7fe68da8c054",
   "metadata": {},
   "outputs": [
    {
     "name": "stdout",
     "output_type": "stream",
     "text": [
      "Test: 2.43359375\n",
      "Train: 2.1632885932922363\n"
     ]
    }
   ],
   "source": [
    "Xtest_emb = C[X_test]\n",
    "Xtest_emb = Xtest_emb.view(-1, 6)\n",
    "h = F.tanh(Xtest_emb @ W1 + b1)\n",
    "logits = h @ W2 + b2\n",
    "loss = F.cross_entropy(logits, y_test)\n",
    "print(f\"Test: {loss.item()}\")\n",
    "\n",
    "Xtrain_emb = C[X_train]\n",
    "Xtrain_emb = Xtrain_emb.view(-1, 6)\n",
    "h = F.tanh(Xtrain_emb @ W1 + b1)\n",
    "logits = h @ W2 + b2\n",
    "loss = F.cross_entropy(logits, y_train)\n",
    "print(f\"Train: {loss.item()}\")"
   ]
  },
  {
   "cell_type": "code",
   "execution_count": 176,
   "id": "547f324c-9246-4744-8b2a-5eb484ebb54c",
   "metadata": {},
   "outputs": [
    {
     "data": {
      "image/png": "[encoded data removed]",
      "text/plain": [
       "<Figure size 800x800 with 1 Axes>"
      ]
     },
     "metadata": {},
     "output_type": "display_data"
    }
   ],
   "source": [
    "plt.figure(figsize=(8, 8))\n",
    "plt.scatter(C[:, 0].data, C[:, 1].data, s=200);\n",
    "\n",
    "for i in range(C.shape[0]):\n",
    "    plt.text(C[i, 0].item(), C[i, 1].item(), itos[i], ha=\"center\", va=\"center\", color=\"white\")\n",
    "plt.grid(\"minor\")"
   ]
  },
  {
   "cell_type": "code",
   "execution_count": 247,
   "id": "07bc2390-7056-45d6-a9cc-5f14b4ccc2c6",
   "metadata": {},
   "outputs": [],
   "source": [
    "stepi = []\n",
    "lossi = []"
   ]
  },
  {
   "cell_type": "code",
   "execution_count": 248,
   "id": "1f6122a6-a875-4a1c-a227-0e0a2a613efb",
   "metadata": {},
   "outputs": [
    {
     "name": "stdout",
     "output_type": "stream",
     "text": [
      "Train Loss: 77.51216888427734\n",
      "Train Loss: 3.0127322673797607\n",
      "Train Loss: 2.4242334365844727\n",
      "Train Loss: 2.3086605072021484\n",
      "Train Loss: 1.9303091764450073\n",
      "Train Loss: 2.2767081260681152\n",
      "Train Loss: 1.9242544174194336\n",
      "Train Loss: 2.010711908340454\n",
      "Train Loss: 1.9462618827819824\n",
      "Train Loss: 2.2484219074249268\n",
      "Train Loss: 1.8316384553909302\n",
      "Train Loss: 2.0145375728607178\n",
      "Train Loss: 1.760641098022461\n",
      "Train Loss: 2.043942928314209\n",
      "Train Loss: 1.6870050430297852\n",
      "Train Loss: 2.0504915714263916\n",
      "Train Loss: 1.9350264072418213\n",
      "Train Loss: 2.0180671215057373\n",
      "Train Loss: 1.8272696733474731\n",
      "Train Loss: 2.1576662063598633\n"
     ]
    }
   ],
   "source": [
    "g = torch.Generator().manual_seed(2147483647)\n",
    "W1 = torch.randn((30, 180), generator=g)\n",
    "b1 = torch.randn(180, generator=g)\n",
    "W2 = torch.randn((180, 27), generator=g)\n",
    "b2 = torch.randn(27, generator=g)\n",
    "C = torch.randn((27, 10), generator=g)\n",
    "\n",
    "parameters = [W1, b1, W2, b2, C]\n",
    "for p in parameters:\n",
    "    p.requires_grad = True\n",
    "\n",
    "for epoch in range(200_000):\n",
    "    # Forward pass:\n",
    "    trainbatch_indices = torch.randint(0, X_train.shape[0], (64,))  # Batches of 32\n",
    "    X_train_emb = C[X_train[trainbatch_indices]]\n",
    "    h = F.relu(X_train_emb.view(-1, 30) @ W1 + b1)\n",
    "    logits = h @ W2 + b2\n",
    "    loss = F.cross_entropy(logits, y_train[trainbatch_indices]) + (W1**2).mean() + (W2**2).mean()\n",
    "    if epoch % 10_000 == 0:\n",
    "        print(f\"Train Loss: {loss.item()}\")\n",
    "    for p in parameters:\n",
    "        p.grad = None\n",
    "    loss.backward()\n",
    "    lr = 0.08 if epoch < 100_000 else 0.004\n",
    "    for p in parameters:\n",
    "        p.data += -lr * p.grad\n",
    "    stepi.append(epoch)\n",
    "    lossi.append(loss.log10().item())  # log to squash los vertically"
   ]
  },
  {
   "cell_type": "code",
   "execution_count": 249,
   "id": "0ccaa435-5158-4939-9f54-bc890d6103f4",
   "metadata": {},
   "outputs": [
    {
     "data": {
      "image/png": "[encoded data removed]",
      "text/plain": [
       "<Figure size 640x480 with 1 Axes>"
      ]
     },
     "metadata": {},
     "output_type": "display_data"
    }
   ],
   "source": [
    "plt.xlabel(\"Step\")\n",
    "plt.ylabel(\"Loss\")\n",
    "plt.plot(stepi, lossi);"
   ]
  },
  {
   "cell_type": "code",
   "execution_count": 250,
   "id": "78603ae3-ac06-4bf5-ba35-72cdd1c06d9b",
   "metadata": {},
   "outputs": [
    {
     "name": "stdout",
     "output_type": "stream",
     "text": [
      "Test: 2.160083055496216\n",
      "Train: 1.874122142791748\n"
     ]
    }
   ],
   "source": [
    "Xtest_emb = C[X_test]\n",
    "Xtest_emb = Xtest_emb.view(-1, 30)\n",
    "h = F.relu(Xtest_emb @ W1 + b1)\n",
    "logits = h @ W2 + b2\n",
    "loss = F.cross_entropy(logits, y_test)\n",
    "print(f\"Test: {loss.item()}\")\n",
    "\n",
    "Xtrain_emb = C[X_train]\n",
    "Xtrain_emb = Xtrain_emb.view(-1, 30)\n",
    "h = F.relu(Xtrain_emb @ W1 + b1)\n",
    "logits = h @ W2 + b2\n",
    "loss = F.cross_entropy(logits, y_train)\n",
    "print(f\"Train: {loss.item()}\")"
   ]
  },
  {
   "cell_type": "code",
   "execution_count": 268,
   "id": "f52a46d2-c0cc-49d7-8859-0310e823b438",
   "metadata": {},
   "outputs": [
    {
     "name": "stdout",
     "output_type": "stream",
     "text": [
      "gionni.\n",
      "aliya.\n",
      "mara.\n",
      "lee.\n",
      "gurdy.\n",
      "bailynn.\n",
      "riyah.\n",
      "ray.\n",
      "kathlynileigh.\n",
      "dashie.\n",
      "ran.\n",
      "karmi.\n",
      "jupheo.\n",
      "sia.\n",
      "avyn.\n",
      "zemmylanna.\n",
      "ava.\n",
      "ree.\n",
      "andrix.\n",
      "charte.\n",
      "den.\n",
      "relia.\n",
      "karho.\n",
      "koryn.\n",
      "zena.\n",
      "daina.\n",
      "brinebelaelah.\n",
      "rcessinooriella.\n",
      "keilah.\n",
      "brysen.\n"
     ]
    }
   ],
   "source": [
    "for i in range(30):\n",
    "    res = \"\"\n",
    "    context = [0] * 3\n",
    "    while True:\n",
    "        emb = C[torch.tensor(context)]\n",
    "        h = torch.relu(emb.view(1, -1) @ W1 + b1)\n",
    "        logits = h @ W2 + b2\n",
    "        probs = F.softmax(logits, dim=1)\n",
    "        ix = torch.multinomial(probs, num_samples=1, generator=g).item()\n",
    "        context = context[1:] + [ix]\n",
    "        res += itos[ix]\n",
    "        if ix == 0:\n",
    "            break\n",
    "    print(res)"
   ]
  },
  {
   "cell_type": "markdown",
   "id": "084d5a62-60a9-4133-aad1-184a2b27986e",
   "metadata": {},
   "source": [
    "### Okay, technically I improved the network already (kind of) and beat 2.2 test loss (tho my model is overfitting), so E01 is already accomplished"
   ]
  },
  {
   "cell_type": "code",
   "execution_count": 17,
   "id": "b17b7224-921f-4726-8d22-89f63d84c179",
   "metadata": {},
   "outputs": [
    {
     "name": "stdout",
     "output_type": "stream",
     "text": [
      "3.29583740234375\n"
     ]
    },
    {
     "data": {
      "text/plain": [
       "tensor([0.0370, 0.0370, 0.0370, 0.0370, 0.0370, 0.0370, 0.0370, 0.0370, 0.0370,\n",
       "        0.0370, 0.0370, 0.0370, 0.0370, 0.0370, 0.0370, 0.0370, 0.0370, 0.0370,\n",
       "        0.0370, 0.0370, 0.0370, 0.0370, 0.0370, 0.0370, 0.0370, 0.0370, 0.0370])"
      ]
     },
     "execution_count": 17,
     "metadata": {},
     "output_type": "execute_result"
    }
   ],
   "source": [
    "# E02 Parameter initialization tuning\n",
    "# 2.1 - Initialize parameters, so that all probabilities are equally distributed\n",
    "# INTERESTING!!!\n",
    "\n",
    "\"\"\"\n",
    "To get equal probabilities for each class we need our logits to be equal.\n",
    "Logits are calculated through linear transformations of input.\n",
    "Input plays important role (etc. 2*3 != 4*3)\n",
    "So do parameters. That's why setting parameters to 0 is an option.\n",
    "(2*0 == 4*0). It will produce equally likely next characters vector.\n",
    "\n",
    "Tho bias doesn't really matter here. If X @ W results in matrix filled with zeros.\n",
    "It doesn't matter what we add, all elements there will be equal.\n",
    "\"\"\"\n",
    "W1 = torch.zeros((30, 180))\n",
    "b1 = torch.zeros(180)\n",
    "W2 = torch.zeros((180, 27))\n",
    "b2 = torch.zeros(27)\n",
    "C = torch.randn((27, 10))\n",
    "\n",
    "# Forward pass:\n",
    "X_train_emb = C[X_train]\n",
    "h = F.tanh(X_train_emb.view(-1, 30) @ W1 + b1)\n",
    "logits = h @ W2 + b2\n",
    "loss = F.cross_entropy(logits, y_train)\n",
    "print(loss.item())\n",
    "\n",
    "probabilities = F.softmax(logits, dim=1)\n",
    "probabilities[0]"
   ]
  },
  {
   "cell_type": "code",
   "execution_count": 14,
   "id": "7d961c85-addb-4ce6-b082-71a829472de0",
   "metadata": {},
   "outputs": [],
   "source": [
    "g = torch.Generator().manual_seed(2147483647)"
   ]
  },
  {
   "cell_type": "code",
   "execution_count": 16,
   "id": "badfb40a-5563-45a8-b38c-792dcb78199d",
   "metadata": {},
   "outputs": [
    {
     "name": "stdout",
     "output_type": "stream",
     "text": [
      "ffipafrcikrlegnskraifqzlbjhkrrhmmbgzdavdgxecxgjsfptalmzgpejmfxbglswoztduepxtjsixunqxek.\n",
      "mgwxeybgogtecytlntkvcqmveyqeveqrvugnxvksrqbnxidpozmsynyfwegzap.\n",
      "y.\n",
      ".\n",
      "lhydetajbnoaidtqhcopkkbipilcae.\n"
     ]
    }
   ],
   "source": [
    "for i in range(5):\n",
    "    res = \"\"\n",
    "    context = [0] * 3\n",
    "    while True:\n",
    "        emb = C[torch.tensor(context)]\n",
    "        h = torch.relu(emb.view(1, -1) @ W1 + b1)\n",
    "        logits = h @ W2 + b2\n",
    "        probs = F.softmax(logits, dim=1)\n",
    "        ix = torch.multinomial(probs, num_samples=1, generator=g).item()\n",
    "        context = context[1:] + [ix]\n",
    "        res += itos[ix]\n",
    "        if ix == 0:\n",
    "            break\n",
    "    print(res)\n",
    "\n",
    "# This zero initialized untrained model generates absolute dawgshit!\n",
    "# Cool"
   ]
  },
  {
   "cell_type": "markdown",
   "id": "ff37fbf6-d1be-4278-af20-6a2bfcaf110b",
   "metadata": {},
   "source": [
    "# The other way of completing this exercise is purely **mathematical**\n",
    "We use CrossEntropy Loss. Roughly speaking it's a:\n",
    "$$-\\log(p_{correct})$$ For one sample.\n",
    "Now uniform distribution implies p_correct = any other p.\n",
    "In other words it's 1/C where C - number of classes.<br>\n",
    "In our case C=27. It's 1/27th.\n",
    "Therefore loss is $-\\log(1/27) = log(27) = 3.2958$\n",
    "It's our loss!"
   ]
  },
  {
   "cell_type": "code",
   "execution_count": 19,
   "id": "6800a94a-9547-4b4a-8042-63f68a2f2e83",
   "metadata": {},
   "outputs": [
    {
     "data": {
      "text/plain": [
       "tensor(3.2958)"
      ]
     },
     "execution_count": 19,
     "metadata": {},
     "output_type": "execute_result"
    }
   ],
   "source": [
    "torch.log(torch.tensor(27))"
   ]
  },
  {
   "cell_type": "markdown",
   "id": "a734e743-73c5-4ba8-9dd0-1cbf5ab8b868",
   "metadata": {},
   "source": [
    "Honestly I'm having hard time understanding what 2.2 asks to do.\n",
    "Is it about some smart initialization techniques (Like He or Xavier)\n",
    "Or is it about trying to achieve uniform model performance in different manner\n",
    "I'll try to find more info on discord\n",
    "\n",
    "Speaking of E03 I'll do it tomorrow\n",
    "It's just too much for me to read and implement 19 pages in one evening after all this work done.\n",
    "Notebook will be finished tomorrow (who df will read it? This message will survive a couple of hours and then will be deleted.\n",
    "No one will read this shit lol)"
   ]
  },
  {
   "cell_type": "code",
   "execution_count": null,
   "id": "04768e43-c6e2-4162-9de3-ba46e91364c2",
   "metadata": {},
   "outputs": [],
   "source": []
  },
  {
   "cell_type": "code",
   "execution_count": null,
   "id": "2d02e008-a745-45ee-9f3e-e6ffcb4e0220",
   "metadata": {},
   "outputs": [],
   "source": []
  },
  {
   "cell_type": "code",
   "execution_count": null,
   "id": "970baed8-02e2-40d6-b165-4aee4bdbb48b",
   "metadata": {},
   "outputs": [],
   "source": []
  },
  {
   "cell_type": "code",
   "execution_count": null,
   "id": "d28efdb2-4b0a-4a5e-bfec-807f11f70852",
   "metadata": {},
   "outputs": [],
   "source": []
  },
  {
   "cell_type": "code",
   "execution_count": null,
   "id": "2018ff61-8343-496d-b351-f5ab3f31e09e",
   "metadata": {},
   "outputs": [],
   "source": []
  },
  {
   "cell_type": "code",
   "execution_count": null,
   "id": "e1962030-dade-400b-a79a-7c28371bb3a6",
   "metadata": {},
   "outputs": [],
   "source": []
  }
 ],
 "metadata": {
  "kernelspec": {
   "display_name": "Python 3 (ipykernel)",
   "language": "python",
   "name": "python3"
  },
  "language_info": {
   "codemirror_mode": {
    "name": "ipython",
    "version": 3
   },
   "file_extension": ".py",
   "mimetype": "text/x-python",
   "name": "python",
   "nbconvert_exporter": "python",
   "pygments_lexer": "ipython3",
   "version": "3.12.3"
  }
 },
 "nbformat": 4,
 "nbformat_minor": 5
}
