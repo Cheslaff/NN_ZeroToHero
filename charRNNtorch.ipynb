{
 "cells": [
  {
   "cell_type": "markdown",
   "id": "469760be",
   "metadata": {},
   "source": [
    "### Parametric Name Generation With RNN (PyTorch)"
   ]
  },
  {
   "cell_type": "markdown",
   "id": "2796a068",
   "metadata": {},
   "source": [
    "#### Data Set up"
   ]
  },
  {
   "cell_type": "code",
   "execution_count": 12,
   "id": "5fecd792",
   "metadata": {},
   "outputs": [],
   "source": [
    "from io import open\n",
    "import glob\n",
    "import os\n",
    "import unicodedata\n",
    "import string"
   ]
  },
  {
   "cell_type": "code",
   "execution_count": 13,
   "id": "5f30701c",
   "metadata": {},
   "outputs": [
    {
     "name": "stdout",
     "output_type": "stream",
     "text": [
      "# categories: 18 ['Scottish', 'Greek', 'English', 'Czech', 'French', 'Irish', 'Arabic', 'Dutch', 'Chinese', 'Russian', 'Portuguese', 'Italian', 'Spanish', 'Korean', 'Polish', 'German', 'Japanese', 'Vietnamese']\n",
      "O'Neal\n"
     ]
    }
   ],
   "source": [
    "all_letters = string.ascii_letters + \".,;'-\"\n",
    "n_letters = len(all_letters) + 1  # EOS added\n",
    "\n",
    "def findFiles(path): return glob.glob(path)\n",
    "\n",
    "# Turn a Unicode string to plain ASCII\n",
    "def unicodeToAscii(s):\n",
    "    return ''.join(\n",
    "        c for c in unicodedata.normalize('NFD', s)\n",
    "        if unicodedata.category(c) != 'Mn'\n",
    "        and c in all_letters\n",
    "    )\n",
    "\n",
    "# Read a file and split into lines\n",
    "def readLines(filename):\n",
    "    with open(filename, encoding='utf-8') as some_file:\n",
    "        return [unicodeToAscii(line.strip()) for line in some_file]\n",
    "\n",
    "# Build the category_lines dictionary, a list of lines per category\n",
    "category_lines = {}\n",
    "all_categories = []\n",
    "for filename in findFiles('data/names/*.txt'):\n",
    "    category = os.path.splitext(os.path.basename(filename))[0]\n",
    "    all_categories.append(category)\n",
    "    lines = readLines(filename)\n",
    "    category_lines[category] = lines\n",
    "\n",
    "n_categories = len(all_categories)\n",
    "\n",
    "if n_categories == 0:\n",
    "    raise RuntimeError('Data not found. Make sure that you downloaded data '\n",
    "        'from https://download.pytorch.org/tutorial/data.zip and extract it to '\n",
    "        'the current directory.')\n",
    "\n",
    "print('# categories:', n_categories, all_categories)\n",
    "print(unicodeToAscii(\"O'Néàl\"))\n"
   ]
  },
  {
   "cell_type": "code",
   "execution_count": 16,
   "id": "201c076f",
   "metadata": {},
   "outputs": [
    {
     "data": {
      "text/plain": [
       "['Ababko', 'Abaev', 'Abagyan', 'Abaidulin', 'Abaidullin']"
      ]
     },
     "execution_count": 16,
     "metadata": {},
     "output_type": "execute_result"
    }
   ],
   "source": [
    "category_lines[\"Russian\"][:5]"
   ]
  },
  {
   "cell_type": "markdown",
   "id": "4a090664",
   "metadata": {},
   "source": [
    "#### Creating the Network\n",
    "The author of the tutorial extended the idea of vanila RNN adding more compexity o2o, dropout etc. But it's fine.<br>\n",
    "It's also very cool how we can specify category (nationality) and have more fun here!<br>\n",
    "<img src=\"https://i.imgur.com/jzVrf7f.png\" width=50%><br>\n",
    "Overall architecture"
   ]
  },
  {
   "cell_type": "code",
   "execution_count": 57,
   "id": "79fac465",
   "metadata": {},
   "outputs": [],
   "source": [
    "import torch\n",
    "import torch.nn as nn\n",
    "\n",
    "class RNN(nn.Module):\n",
    "    def __init__(self, input_size, hidden_size, output_size):\n",
    "        super().__init__()\n",
    "        self.hidden_size = hidden_size\n",
    "\n",
    "        self.i2h = nn.Linear(n_categories + input_size + hidden_size, hidden_size)\n",
    "        self.i2o = nn.Linear(n_categories + input_size + hidden_size, output_size)\n",
    "        self.o2o = nn.Linear(output_size + hidden_size, output_size)\n",
    "        self.dropout = nn.Dropout(0.1)\n",
    "        self.softmax = nn.LogSoftmax(dim=1)\n",
    "\n",
    "    def forward(self, category, input, hidden):\n",
    "        input_combined = torch.cat((category, input, hidden), 1)\n",
    "        hidden = self.i2h(input_combined)\n",
    "        output = self.i2o(input_combined)\n",
    "        output_combined = torch.cat((hidden, output), 1)\n",
    "        output = self.o2o(output_combined)\n",
    "        output = self.dropout(output)\n",
    "        output = self.softmax(output)\n",
    "        return output, hidden\n",
    "\n",
    "    def init_hidden(self):\n",
    "        return torch.zeros(1, self.hidden_size)"
   ]
  },
  {
   "cell_type": "code",
   "execution_count": 58,
   "id": "37fa8aaf",
   "metadata": {},
   "outputs": [],
   "source": [
    "import random\n",
    "def random_choice(l):\n",
    "    return l[random.randint(0, len(l)-1)]\n",
    "\n",
    "def random_training_pair():\n",
    "    category = random_choice(all_categories)\n",
    "    line = random_choice(category_lines[category])\n",
    "    return category, line"
   ]
  },
  {
   "cell_type": "code",
   "execution_count": 59,
   "id": "2c708217",
   "metadata": {},
   "outputs": [
    {
     "data": {
      "text/plain": [
       "('Arabic', 'Said')"
      ]
     },
     "execution_count": 59,
     "metadata": {},
     "output_type": "execute_result"
    }
   ],
   "source": [
    "random_training_pair()"
   ]
  },
  {
   "cell_type": "code",
   "execution_count": 71,
   "id": "8349c7b0",
   "metadata": {},
   "outputs": [],
   "source": [
    "def categorytensor(category):\n",
    "    li = all_categories.index(category)\n",
    "    tensor = torch.zeros(1, n_categories)\n",
    "    tensor[0][li] = 1\n",
    "    return tensor\n",
    "\n",
    "# One hot encoding\n",
    "def input_tensor(line):\n",
    "    tensor = torch.zeros(len(line), 1, n_letters)\n",
    "    for li in range(len(line)):\n",
    "        letter = line[li]\n",
    "        tensor[li][0][all_letters.find(letter)] = 1\n",
    "    return tensor\n",
    "\n",
    "def target_tensor(line):\n",
    "    letter_indexes = [all_letters.find(line[li]) for li in range(1, len(line))]\n",
    "    letter_indexes.append(n_letters - 1)\n",
    "    return torch.LongTensor(letter_indexes)"
   ]
  },
  {
   "cell_type": "code",
   "execution_count": 72,
   "id": "e209d768",
   "metadata": {},
   "outputs": [],
   "source": [
    "def randomTrainingExample():\n",
    "    category, line = random_training_pair()\n",
    "    category_tensor = categorytensor(category)\n",
    "    input_line_tensor = input_tensor(line)\n",
    "    target_line_tensor = target_tensor(line)\n",
    "    return category_tensor, input_line_tensor, target_line_tensor"
   ]
  },
  {
   "cell_type": "markdown",
   "id": "f390c833",
   "metadata": {},
   "source": [
    "#### Training"
   ]
  },
  {
   "cell_type": "code",
   "execution_count": 77,
   "id": "3dea290a",
   "metadata": {},
   "outputs": [],
   "source": [
    "loss_fn = nn.CrossEntropyLoss()\n",
    "lr = 0.0005\n",
    "\n",
    "def train(category_tensor, input_line_tensor, target_line_tensor):\n",
    "    target_line_tensor.unsqueeze_(-1)\n",
    "    hidden = rnn.init_hidden()\n",
    "    rnn.zero_grad()\n",
    "    loss = torch.Tensor([0])\n",
    "\n",
    "    for i in range(input_line_tensor.size(0)):\n",
    "        output, hidden = rnn(category_tensor, input_line_tensor[i], hidden)\n",
    "        l = loss_fn(output, target_line_tensor[i])\n",
    "        loss += l\n",
    "    loss.backward()\n",
    "\n",
    "    for p in rnn.parameters():\n",
    "        p.data.add_(p.grad.data, alpha=-lr)\n",
    "    return output, loss.item() / input_line_tensor.size(0)"
   ]
  },
  {
   "cell_type": "code",
   "execution_count": 86,
   "id": "219df1bf",
   "metadata": {},
   "outputs": [
    {
     "name": "stdout",
     "output_type": "stream",
     "text": [
      "Iter: 5000 | Loss: 2.5938730239868164\n",
      "Iter: 10000 | Loss: 2.606729030609131\n",
      "Iter: 15000 | Loss: 2.352198918660482\n",
      "Iter: 20000 | Loss: 2.2943435668945313\n",
      "Iter: 25000 | Loss: 2.3943713506062827\n",
      "Iter: 30000 | Loss: 2.1191885471343994\n",
      "Iter: 35000 | Loss: 2.544705867767334\n",
      "Iter: 40000 | Loss: 2.343104468451606\n",
      "Iter: 45000 | Loss: 1.7815914154052734\n",
      "Iter: 50000 | Loss: 2.5056784947713218\n",
      "Iter: 55000 | Loss: 2.224259853363037\n",
      "Iter: 60000 | Loss: 2.810243034362793\n",
      "Iter: 65000 | Loss: 1.8739267587661743\n",
      "Iter: 70000 | Loss: 2.272632122039795\n",
      "Iter: 75000 | Loss: 1.8914262226649694\n",
      "Iter: 80000 | Loss: 2.510128657023112\n",
      "Iter: 85000 | Loss: 2.7222954432169595\n",
      "Iter: 90000 | Loss: 2.3370467594691684\n",
      "Iter: 95000 | Loss: 1.9627718244280135\n",
      "Iter: 100000 | Loss: 2.405247824532645\n",
      "Iter: 105000 | Loss: 1.7545657839093889\n",
      "Iter: 110000 | Loss: 2.917559814453125\n",
      "Iter: 115000 | Loss: 1.8657133102416992\n",
      "Iter: 120000 | Loss: 2.208647918701172\n",
      "Iter: 125000 | Loss: 1.9650532404581706\n",
      "Iter: 130000 | Loss: 1.2809650897979736\n",
      "Iter: 135000 | Loss: 2.303960084915161\n",
      "Iter: 140000 | Loss: 2.0648790995279946\n",
      "Iter: 145000 | Loss: 2.333444595336914\n",
      "Iter: 150000 | Loss: 2.723259449005127\n"
     ]
    }
   ],
   "source": [
    "rnn = RNN(n_letters, 128, n_letters)\n",
    "n_iters = 150_000\n",
    "print_every = 5_000\n",
    "plot_every = 500\n",
    "all_losses = []\n",
    "total_loss = 0\n",
    "\n",
    "for iter in range(1, n_iters+1):\n",
    "    ouptut, loss = train(*randomTrainingExample())\n",
    "    total_loss += loss\n",
    "\n",
    "    if iter % print_every == 0:\n",
    "        print(f\"Iter: {iter} | Loss: {loss}\")\n",
    "    \n",
    "    if iter % plot_every == 0:\n",
    "        all_losses.append(total_loss / plot_every)\n",
    "        total_loss = 0"
   ]
  },
  {
   "cell_type": "code",
   "execution_count": 87,
   "id": "580c3e31",
   "metadata": {},
   "outputs": [
    {
     "data": {
      "text/plain": [
       "[<matplotlib.lines.Line2D at 0x7822ae1ea450>]"
      ]
     },
     "execution_count": 87,
     "metadata": {},
     "output_type": "execute_result"
    },
    {
     "data": {
      "image/png": "[encoded data removed]",
      "text/plain": [
       "<Figure size 640x480 with 1 Axes>"
      ]
     },
     "metadata": {},
     "output_type": "display_data"
    }
   ],
   "source": [
    "import matplotlib.pyplot as plt\n",
    "\n",
    "plt.figure()\n",
    "plt.plot(all_losses)"
   ]
  },
  {
   "cell_type": "code",
   "execution_count": 88,
   "id": "11d4a968",
   "metadata": {},
   "outputs": [],
   "source": [
    "max_len = 20\n",
    "\n",
    "def sample(category, start_letter=\"A\"):\n",
    "    with torch.inference_mode():\n",
    "        category_tensor = categorytensor(category)\n",
    "        input = input_tensor(start_letter)\n",
    "        hidden = rnn.init_hidden()\n",
    "\n",
    "        output_name = start_letter\n",
    "\n",
    "        for i in range(max_len):\n",
    "            output, hidden = rnn(category_tensor, input[0], hidden)\n",
    "            topv, topi = output.topk(1)\n",
    "            topi = topi[0][0]\n",
    "            if topi == n_letters -1:\n",
    "                break\n",
    "            else:\n",
    "                letter = all_letters[topi]\n",
    "                output_name += letter\n",
    "            input = input_tensor(letter)\n",
    "        return output_name"
   ]
  },
  {
   "cell_type": "code",
   "execution_count": 89,
   "id": "52461e56",
   "metadata": {},
   "outputs": [],
   "source": [
    "def samples(category, start_letters=\"ABC\"):\n",
    "    for start_letter in start_letters:\n",
    "        print(sample(category, start_letter))"
   ]
  },
  {
   "cell_type": "code",
   "execution_count": 90,
   "id": "05598bad",
   "metadata": {},
   "outputs": [
    {
     "name": "stdout",
     "output_type": "stream",
     "text": [
      "Deller\n",
      "Uerter\n",
      "Erin\n"
     ]
    }
   ],
   "source": [
    "samples(\"German\", \"DUE\")"
   ]
  },
  {
   "cell_type": "code",
   "execution_count": null,
   "id": "0de899e1",
   "metadata": {},
   "outputs": [],
   "source": []
  }
 ],
 "metadata": {
  "kernelspec": {
   "display_name": "Python 3",
   "language": "python",
   "name": "python3"
  },
  "language_info": {
   "codemirror_mode": {
    "name": "ipython",
    "version": 3
   },
   "file_extension": ".py",
   "mimetype": "text/x-python",
   "name": "python",
   "nbconvert_exporter": "python",
   "pygments_lexer": "ipython3",
   "version": "3.12.3"
  }
 },
 "nbformat": 4,
 "nbformat_minor": 5
}
